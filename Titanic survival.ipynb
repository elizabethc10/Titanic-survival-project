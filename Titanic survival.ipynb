{
 "cells": [
  {
   "cell_type": "code",
   "execution_count": 9,
   "metadata": {},
   "outputs": [],
   "source": [
    "import numpy as np\n",
    "import pandas as pd\n",
    "from sklearn import preprocessing\n",
    "from sklearn.model_selection import train_test_split\n",
    "from sklearn.svm import SVC\n",
    "from sklearn.model_selection import GridSearchCV\n",
    "from sklearn.metrics import roc_auc_score\n",
    "from sklearn.preprocessing import OneHotEncoder, MinMaxScaler\n",
    "from sklearn.impute import SimpleImputer\n",
    "from sklearn.neighbors import KNeighborsClassifier\n",
    "from sklearn.compose import make_column_transformer\n",
    "\n",
    "\n",
    "#read data\n",
    "df = pd.read_csv('titanic_train.csv').set_index('PassengerId').drop(['Name', 'Ticket', 'Cabin'], axis=1).dropna()\n",
    "\n",
    "#encode categorical data\n",
    "sexes = ['female', 'male']\n",
    "classes = [1, 2, 3]\n",
    "ports = ['C', 'S', 'Q']\n",
    "enc = preprocessing.OneHotEncoder(categories = [sexes, classes, ports], sparse=False)\n",
    "df = pd.concat([df.drop(['Sex', 'Pclass', 'Embarked'], axis=1), pd.DataFrame(enc.fit_transform(df[['Sex', 'Pclass', 'Embarked']]), index=df.index)], axis=1)\n",
    "\n",
    "#scale data\n",
    "scaler = MinMaxScaler()\n",
    "X = scaler.fit_transform(df.drop('Survived', axis=1).values.reshape(-1, 12))\n",
    "\n",
    "y = df['Survived'].values\n",
    "#X_train, X_test, y_train, y_test = train_test_split(X, y, random_state=0)\n",
    "\n",
    "#train model\n",
    "clf = SVC(kernel='linear', gamma=1, C=1000)\n",
    "clf.fit(X, y)\n",
    "\n",
    "# grid = GridSearchCV(clf, param_grid = grid_values, scoring = 'accuracy')\n",
    "# grid.fit(X_train, y_train)\n",
    "# y_decision_fn_scores_auc = grid_clf_auc.decision_function(X_test)\n",
    "\n",
    "# print('Test set AUC: ', roc_auc_score(y_test, y_decision_fn_scores_auc))\n",
    "# print('Grid best parameter: ', grid.best_params_)\n",
    "# print('Grid best score: ', grid.best_score_)\n",
    "# print(grid.score(X_test, y_test))\n",
    "\n",
    "#read test data\n",
    "Xtest = pd.read_csv('titanic_test.csv').set_index('PassengerId').drop(['Name', 'Ticket', 'Cabin'], axis=1)\n",
    "\n",
    "#preprocess test data\n",
    "Xtest = pd.concat([Xtest.drop(['Sex', 'Pclass', 'Embarked'], axis=1),\n",
    "                   pd.DataFrame(enc.fit_transform(Xtest[['Sex', 'Pclass', 'Embarked']]), index=Xtest.index)], axis=1)\n",
    "imp = SimpleImputer(missing_values=np.nan, strategy='mean')\n",
    "atest = imp.fit_transform(Xtest.values.reshape(-1, 12))\n",
    "\n",
    "#predictions\n",
    "fields = ['PassengerId', 'Survived']\n",
    "tstpred = clf.predict(atest)\n",
    "rows = np.array(list(zip(Xtest.index, tstpred)))\n",
    "#print(rows)\n",
    "filename = 'ps.csv'\n",
    "with open(filename, 'w') as csvfile:\n",
    "    csvwriter = csv.writer(csvfile)\n",
    "    csvwriter.writerow(fields)\n",
    "    csvwriter.writerows(rows)"
   ]
  },
  {
   "cell_type": "code",
   "execution_count": null,
   "metadata": {},
   "outputs": [],
   "source": []
  },
  {
   "cell_type": "code",
   "execution_count": null,
   "metadata": {},
   "outputs": [],
   "source": []
  }
 ],
 "metadata": {
  "kernelspec": {
   "display_name": "Python 3",
   "language": "python",
   "name": "python3"
  },
  "language_info": {
   "codemirror_mode": {
    "name": "ipython",
    "version": 3
   },
   "file_extension": ".py",
   "mimetype": "text/x-python",
   "name": "python",
   "nbconvert_exporter": "python",
   "pygments_lexer": "ipython3",
   "version": "3.7.3"
  }
 },
 "nbformat": 4,
 "nbformat_minor": 2
}
